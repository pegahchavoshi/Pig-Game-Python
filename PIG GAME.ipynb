{
 "cells": [
  {
   "cell_type": "code",
   "execution_count": 1,
   "id": "74f01454",
   "metadata": {},
   "outputs": [],
   "source": [
    "import random"
   ]
  },
  {
   "cell_type": "code",
   "execution_count": 8,
   "id": "d51fef9d",
   "metadata": {},
   "outputs": [],
   "source": [
    "def roll():\n",
    "    min_value = 1\n",
    "    max_value = 6\n",
    "    roll = random.randint(min_value, max_value)\n",
    "    \n",
    "    return roll\n"
   ]
  },
  {
   "cell_type": "code",
   "execution_count": null,
   "id": "7883e698",
   "metadata": {},
   "outputs": [],
   "source": [
    "while True:\n",
    "    players = input(\"Enter the number of players (2 - 4)\")\n",
    "    if players.isdigit():\n",
    "        players = int(players)\n",
    "        if  2<= players <= 4:\n",
    "            break\n",
    "        else:\n",
    "             print(\"Must be between 2 - 4 players.\")\n",
    "    else:\n",
    "        print(\"Invalid, try again.\")\n",
    "print(players)  "
   ]
  },
  {
   "cell_type": "code",
   "execution_count": 13,
   "id": "32b3687e",
   "metadata": {},
   "outputs": [
    {
     "name": "stdout",
     "output_type": "stream",
     "text": [
      "[0, 0, 0]\n"
     ]
    }
   ],
   "source": [
    "max_score = 50\n",
    "player_scores = [0 for _ in range(players)]\n",
    "print(player_scores)"
   ]
  },
  {
   "cell_type": "markdown",
   "id": "d9da527a",
   "metadata": {},
   "source": [
    "#Players terms"
   ]
  },
  {
   "cell_type": "code",
   "execution_count": null,
   "id": "8691fb31",
   "metadata": {},
   "outputs": [],
   "source": [
    "while max(player_scores) < max_score:\n",
    "    \n",
    "    for player_idx in range(players):\n",
    "        print(\"\\nPlayer number\", player_idx + 1, \"turn has just started!\")\n",
    "        print(\"Your total score is:\", player_scores[player_idx], \"\\n\")\n",
    "        current_score = 0\n",
    "        \n",
    "        while True:\n",
    "            should_roll = input(\"Would you like to roll (y)? \")\n",
    "            if should_roll.lower() != \"y\":\n",
    "                break\n",
    "            \n",
    "            value = roll()\n",
    "            if value == 1:\n",
    "                print(\"You rolled a 1! Turn done!\")\n",
    "                current_score = 0\n",
    "                break\n",
    "            else:\n",
    "                print(\"You rolled a:\", value)\n",
    "                \n",
    "            \n",
    "            print(\"Your score is:\", current_score)\n",
    "            \n",
    "        player_scores[player_idx] += current_score\n",
    "        print(\"Your total score is:\", player_scores[player_idx])\n",
    "\n",
    "max_score = max(player_scores)\n",
    "winning_idx = player_scores.index(max_score)\n",
    "print(\"Player number\", winning_idx + 1, \"is the winner with a score of:\", max_score)\n"
   ]
  }
 ],
 "metadata": {
  "kernelspec": {
   "display_name": "Python 3 (ipykernel)",
   "language": "python",
   "name": "python3"
  },
  "language_info": {
   "codemirror_mode": {
    "name": "ipython",
    "version": 3
   },
   "file_extension": ".py",
   "mimetype": "text/x-python",
   "name": "python",
   "nbconvert_exporter": "python",
   "pygments_lexer": "ipython3",
   "version": "3.9.7"
  }
 },
 "nbformat": 4,
 "nbformat_minor": 5
}
